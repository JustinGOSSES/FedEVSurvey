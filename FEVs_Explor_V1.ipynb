{
 "cells": [
  {
   "cell_type": "markdown",
   "metadata": {},
   "source": [
    "# Federal Employee Viewpoint Survey Data Exploration Focused on NASA Telework\n",
    "\n",
    "### Purposes:\n",
    "#### 1. Save the portion of the data that has to do with NASA employees as a new CSV, reducing the rows from just under 3 million to ~70,000\n",
    "#### 2. Do some initial data exploration on questions having to do with telework.\n",
    "\n",
    "by:  Justin Gosses 2016-08-12 justin.c.gosses@nasa.gov\n",
    "\n",
    "Overview reports & survey results can be downloaded from https://www.fedview.opm.gov\n"
   ]
  },
  {
   "cell_type": "code",
   "execution_count": 8,
   "metadata": {
    "collapsed": false
   },
   "outputs": [
    {
     "data": {
      "text/html": [
       "<div>\n",
       "<table border=\"1\" class=\"dataframe\">\n",
       "  <thead>\n",
       "    <tr style=\"text-align: right;\">\n",
       "      <th></th>\n",
       "      <th>year</th>\n",
       "      <th>POSTWT</th>\n",
       "      <th>Q1</th>\n",
       "      <th>Q2</th>\n",
       "      <th>Q3</th>\n",
       "      <th>Q4</th>\n",
       "      <th>Q5</th>\n",
       "      <th>Q6</th>\n",
       "      <th>Q7</th>\n",
       "      <th>Q8</th>\n",
       "      <th>...</th>\n",
       "      <th>Q70</th>\n",
       "      <th>Q71</th>\n",
       "      <th>Q72</th>\n",
       "      <th>Q73</th>\n",
       "      <th>Q74</th>\n",
       "      <th>Q75</th>\n",
       "      <th>Q76</th>\n",
       "      <th>Q77</th>\n",
       "      <th>Q78</th>\n",
       "      <th>DMINORITY</th>\n",
       "    </tr>\n",
       "  </thead>\n",
       "  <tbody>\n",
       "    <tr>\n",
       "      <th>count</th>\n",
       "      <td>2.990137e+06</td>\n",
       "      <td>2.990137e+06</td>\n",
       "      <td>2.985469e+06</td>\n",
       "      <td>2.974093e+06</td>\n",
       "      <td>2.961708e+06</td>\n",
       "      <td>2.976611e+06</td>\n",
       "      <td>2.960270e+06</td>\n",
       "      <td>2.386044e+06</td>\n",
       "      <td>2.395022e+06</td>\n",
       "      <td>2.398551e+06</td>\n",
       "      <td>...</td>\n",
       "      <td>2.879622e+06</td>\n",
       "      <td>2.880073e+06</td>\n",
       "      <td>778574.000000</td>\n",
       "      <td>2.001101e+06</td>\n",
       "      <td>2.031545e+06</td>\n",
       "      <td>2.026025e+06</td>\n",
       "      <td>2.014367e+06</td>\n",
       "      <td>2.029930e+06</td>\n",
       "      <td>2.030974e+06</td>\n",
       "      <td>2.729168e+06</td>\n",
       "    </tr>\n",
       "    <tr>\n",
       "      <th>mean</th>\n",
       "      <td>2.011423e+03</td>\n",
       "      <td>5.195231e+00</td>\n",
       "      <td>3.592359e+00</td>\n",
       "      <td>3.743096e+00</td>\n",
       "      <td>3.525523e+00</td>\n",
       "      <td>3.843604e+00</td>\n",
       "      <td>4.153697e+00</td>\n",
       "      <td>3.977097e+00</td>\n",
       "      <td>4.590352e+00</td>\n",
       "      <td>4.370661e+00</td>\n",
       "      <td>...</td>\n",
       "      <td>3.516520e+00</td>\n",
       "      <td>3.496088e+00</td>\n",
       "      <td>1.820659</td>\n",
       "      <td>1.735006e+00</td>\n",
       "      <td>1.791586e+00</td>\n",
       "      <td>1.824130e+00</td>\n",
       "      <td>1.900565e+00</td>\n",
       "      <td>2.130533e+00</td>\n",
       "      <td>2.141949e+00</td>\n",
       "      <td>1.670462e+00</td>\n",
       "    </tr>\n",
       "    <tr>\n",
       "      <th>std</th>\n",
       "      <td>2.999163e+00</td>\n",
       "      <td>1.520194e+01</td>\n",
       "      <td>1.126114e+00</td>\n",
       "      <td>9.828509e-01</td>\n",
       "      <td>1.192067e+00</td>\n",
       "      <td>1.077620e+00</td>\n",
       "      <td>8.948647e-01</td>\n",
       "      <td>9.704139e-01</td>\n",
       "      <td>6.324323e-01</td>\n",
       "      <td>7.149583e-01</td>\n",
       "      <td>...</td>\n",
       "      <td>1.151424e+00</td>\n",
       "      <td>1.109525e+00</td>\n",
       "      <td>1.015688</td>\n",
       "      <td>6.762290e-01</td>\n",
       "      <td>7.068992e-01</td>\n",
       "      <td>6.076360e-01</td>\n",
       "      <td>4.244521e-01</td>\n",
       "      <td>4.221712e-01</td>\n",
       "      <td>4.090882e-01</td>\n",
       "      <td>4.700454e-01</td>\n",
       "    </tr>\n",
       "    <tr>\n",
       "      <th>min</th>\n",
       "      <td>2.004000e+03</td>\n",
       "      <td>4.249132e-01</td>\n",
       "      <td>1.000000e+00</td>\n",
       "      <td>1.000000e+00</td>\n",
       "      <td>1.000000e+00</td>\n",
       "      <td>1.000000e+00</td>\n",
       "      <td>1.000000e+00</td>\n",
       "      <td>1.000000e+00</td>\n",
       "      <td>1.000000e+00</td>\n",
       "      <td>1.000000e+00</td>\n",
       "      <td>...</td>\n",
       "      <td>1.000000e+00</td>\n",
       "      <td>1.000000e+00</td>\n",
       "      <td>1.000000</td>\n",
       "      <td>1.000000e+00</td>\n",
       "      <td>1.000000e+00</td>\n",
       "      <td>1.000000e+00</td>\n",
       "      <td>1.000000e+00</td>\n",
       "      <td>1.000000e+00</td>\n",
       "      <td>1.000000e+00</td>\n",
       "      <td>1.000000e+00</td>\n",
       "    </tr>\n",
       "    <tr>\n",
       "      <th>25%</th>\n",
       "      <td>2.010000e+03</td>\n",
       "      <td>1.673878e+00</td>\n",
       "      <td>3.000000e+00</td>\n",
       "      <td>3.000000e+00</td>\n",
       "      <td>3.000000e+00</td>\n",
       "      <td>3.000000e+00</td>\n",
       "      <td>4.000000e+00</td>\n",
       "      <td>4.000000e+00</td>\n",
       "      <td>4.000000e+00</td>\n",
       "      <td>4.000000e+00</td>\n",
       "      <td>...</td>\n",
       "      <td>3.000000e+00</td>\n",
       "      <td>3.000000e+00</td>\n",
       "      <td>1.000000</td>\n",
       "      <td>1.000000e+00</td>\n",
       "      <td>1.000000e+00</td>\n",
       "      <td>1.000000e+00</td>\n",
       "      <td>2.000000e+00</td>\n",
       "      <td>2.000000e+00</td>\n",
       "      <td>2.000000e+00</td>\n",
       "      <td>1.000000e+00</td>\n",
       "    </tr>\n",
       "    <tr>\n",
       "      <th>50%</th>\n",
       "      <td>2.012000e+03</td>\n",
       "      <td>2.199778e+00</td>\n",
       "      <td>4.000000e+00</td>\n",
       "      <td>4.000000e+00</td>\n",
       "      <td>4.000000e+00</td>\n",
       "      <td>4.000000e+00</td>\n",
       "      <td>4.000000e+00</td>\n",
       "      <td>4.000000e+00</td>\n",
       "      <td>5.000000e+00</td>\n",
       "      <td>4.000000e+00</td>\n",
       "      <td>...</td>\n",
       "      <td>4.000000e+00</td>\n",
       "      <td>4.000000e+00</td>\n",
       "      <td>1.000000</td>\n",
       "      <td>2.000000e+00</td>\n",
       "      <td>2.000000e+00</td>\n",
       "      <td>2.000000e+00</td>\n",
       "      <td>2.000000e+00</td>\n",
       "      <td>2.000000e+00</td>\n",
       "      <td>2.000000e+00</td>\n",
       "      <td>2.000000e+00</td>\n",
       "    </tr>\n",
       "    <tr>\n",
       "      <th>75%</th>\n",
       "      <td>2.014000e+03</td>\n",
       "      <td>4.045545e+00</td>\n",
       "      <td>4.000000e+00</td>\n",
       "      <td>4.000000e+00</td>\n",
       "      <td>4.000000e+00</td>\n",
       "      <td>5.000000e+00</td>\n",
       "      <td>5.000000e+00</td>\n",
       "      <td>5.000000e+00</td>\n",
       "      <td>5.000000e+00</td>\n",
       "      <td>5.000000e+00</td>\n",
       "      <td>...</td>\n",
       "      <td>4.000000e+00</td>\n",
       "      <td>4.000000e+00</td>\n",
       "      <td>3.000000</td>\n",
       "      <td>2.000000e+00</td>\n",
       "      <td>2.000000e+00</td>\n",
       "      <td>2.000000e+00</td>\n",
       "      <td>2.000000e+00</td>\n",
       "      <td>2.000000e+00</td>\n",
       "      <td>2.000000e+00</td>\n",
       "      <td>2.000000e+00</td>\n",
       "    </tr>\n",
       "    <tr>\n",
       "      <th>max</th>\n",
       "      <td>2.015000e+03</td>\n",
       "      <td>1.475779e+03</td>\n",
       "      <td>5.000000e+00</td>\n",
       "      <td>5.000000e+00</td>\n",
       "      <td>5.000000e+00</td>\n",
       "      <td>5.000000e+00</td>\n",
       "      <td>5.000000e+00</td>\n",
       "      <td>5.000000e+00</td>\n",
       "      <td>5.000000e+00</td>\n",
       "      <td>5.000000e+00</td>\n",
       "      <td>...</td>\n",
       "      <td>5.000000e+00</td>\n",
       "      <td>5.000000e+00</td>\n",
       "      <td>4.000000</td>\n",
       "      <td>3.000000e+00</td>\n",
       "      <td>3.000000e+00</td>\n",
       "      <td>3.000000e+00</td>\n",
       "      <td>3.000000e+00</td>\n",
       "      <td>3.000000e+00</td>\n",
       "      <td>3.000000e+00</td>\n",
       "      <td>2.000000e+00</td>\n",
       "    </tr>\n",
       "  </tbody>\n",
       "</table>\n",
       "<p>8 rows × 35 columns</p>\n",
       "</div>"
      ],
      "text/plain": [
       "               year        POSTWT            Q1            Q2            Q3  \\\n",
       "count  2.990137e+06  2.990137e+06  2.985469e+06  2.974093e+06  2.961708e+06   \n",
       "mean   2.011423e+03  5.195231e+00  3.592359e+00  3.743096e+00  3.525523e+00   \n",
       "std    2.999163e+00  1.520194e+01  1.126114e+00  9.828509e-01  1.192067e+00   \n",
       "min    2.004000e+03  4.249132e-01  1.000000e+00  1.000000e+00  1.000000e+00   \n",
       "25%    2.010000e+03  1.673878e+00  3.000000e+00  3.000000e+00  3.000000e+00   \n",
       "50%    2.012000e+03  2.199778e+00  4.000000e+00  4.000000e+00  4.000000e+00   \n",
       "75%    2.014000e+03  4.045545e+00  4.000000e+00  4.000000e+00  4.000000e+00   \n",
       "max    2.015000e+03  1.475779e+03  5.000000e+00  5.000000e+00  5.000000e+00   \n",
       "\n",
       "                 Q4            Q5            Q6            Q7            Q8  \\\n",
       "count  2.976611e+06  2.960270e+06  2.386044e+06  2.395022e+06  2.398551e+06   \n",
       "mean   3.843604e+00  4.153697e+00  3.977097e+00  4.590352e+00  4.370661e+00   \n",
       "std    1.077620e+00  8.948647e-01  9.704139e-01  6.324323e-01  7.149583e-01   \n",
       "min    1.000000e+00  1.000000e+00  1.000000e+00  1.000000e+00  1.000000e+00   \n",
       "25%    3.000000e+00  4.000000e+00  4.000000e+00  4.000000e+00  4.000000e+00   \n",
       "50%    4.000000e+00  4.000000e+00  4.000000e+00  5.000000e+00  4.000000e+00   \n",
       "75%    5.000000e+00  5.000000e+00  5.000000e+00  5.000000e+00  5.000000e+00   \n",
       "max    5.000000e+00  5.000000e+00  5.000000e+00  5.000000e+00  5.000000e+00   \n",
       "\n",
       "           ...                Q70           Q71            Q72           Q73  \\\n",
       "count      ...       2.879622e+06  2.880073e+06  778574.000000  2.001101e+06   \n",
       "mean       ...       3.516520e+00  3.496088e+00       1.820659  1.735006e+00   \n",
       "std        ...       1.151424e+00  1.109525e+00       1.015688  6.762290e-01   \n",
       "min        ...       1.000000e+00  1.000000e+00       1.000000  1.000000e+00   \n",
       "25%        ...       3.000000e+00  3.000000e+00       1.000000  1.000000e+00   \n",
       "50%        ...       4.000000e+00  4.000000e+00       1.000000  2.000000e+00   \n",
       "75%        ...       4.000000e+00  4.000000e+00       3.000000  2.000000e+00   \n",
       "max        ...       5.000000e+00  5.000000e+00       4.000000  3.000000e+00   \n",
       "\n",
       "                Q74           Q75           Q76           Q77           Q78  \\\n",
       "count  2.031545e+06  2.026025e+06  2.014367e+06  2.029930e+06  2.030974e+06   \n",
       "mean   1.791586e+00  1.824130e+00  1.900565e+00  2.130533e+00  2.141949e+00   \n",
       "std    7.068992e-01  6.076360e-01  4.244521e-01  4.221712e-01  4.090882e-01   \n",
       "min    1.000000e+00  1.000000e+00  1.000000e+00  1.000000e+00  1.000000e+00   \n",
       "25%    1.000000e+00  1.000000e+00  2.000000e+00  2.000000e+00  2.000000e+00   \n",
       "50%    2.000000e+00  2.000000e+00  2.000000e+00  2.000000e+00  2.000000e+00   \n",
       "75%    2.000000e+00  2.000000e+00  2.000000e+00  2.000000e+00  2.000000e+00   \n",
       "max    3.000000e+00  3.000000e+00  3.000000e+00  3.000000e+00  3.000000e+00   \n",
       "\n",
       "          DMINORITY  \n",
       "count  2.729168e+06  \n",
       "mean   1.670462e+00  \n",
       "std    4.700454e-01  \n",
       "min    1.000000e+00  \n",
       "25%    1.000000e+00  \n",
       "50%    2.000000e+00  \n",
       "75%    2.000000e+00  \n",
       "max    2.000000e+00  \n",
       "\n",
       "[8 rows x 35 columns]"
      ]
     },
     "execution_count": 8,
     "metadata": {},
     "output_type": "execute_result"
    }
   ],
   "source": [
    "### most of these calls at just bringing in different python modules, eventually down at the bottom of this cell \n",
    "### the data is loaded and basic stats created as a check.\n",
    "\n",
    "# This Python 3 environment \n",
    "import numpy as np # linear algebra\n",
    "import pandas as pd # data processing, CSV file I/O (e.g. pd.read_csv)\n",
    "\n",
    "from subprocess import check_output\n",
    "#print(check_output([\"ls\", \"../input\"]).decode(\"utf8\"))\n",
    "# Any results you write to the current directory are saved as output.\n",
    "\n",
    "#if running locally, run this so seaborn runs the graphs inline:\n",
    "#sns.plt.show()   # run this one if you want to run every graph as separate window. \n",
    "%matplotlib inline\n",
    "\n",
    "#import pandas, a data processing and CSV file I/O library\n",
    "import pandas as pd\n",
    "\n",
    "#also import seaborn, a Python graphing library\n",
    "import warnings # current version of seaborn generates a bunch of warnings that we'll ignore\n",
    "warnings.filterwarnings(\"ignore\")\n",
    "import seaborn as sns\n",
    "import matplotlib.pyplot as plt\n",
    "sns.set(style=\"darkgrid\", color_codes=True)\n",
    "\n",
    "#this loads the CSV file and turns it into a pandas data frame.\n",
    "fevs = pd.read_csv(\"./evs2015_PRDF_trend.csv\") # the iris dataset is now a Pandas DataFrame\n",
    "\n",
    "# This describe call will take up to 0.5-3 minutes as it is calculating information on almost 3 million entries\n",
    "fevs.describe()"
   ]
  },
  {
   "cell_type": "code",
   "execution_count": 9,
   "metadata": {
    "collapsed": false
   },
   "outputs": [
    {
     "data": {
      "text/html": [
       "<div>\n",
       "<table border=\"1\" class=\"dataframe\">\n",
       "  <thead>\n",
       "    <tr style=\"text-align: right;\">\n",
       "      <th></th>\n",
       "      <th>year</th>\n",
       "      <th>POSTWT</th>\n",
       "      <th>Q1</th>\n",
       "      <th>Q2</th>\n",
       "      <th>Q3</th>\n",
       "      <th>Q4</th>\n",
       "      <th>Q5</th>\n",
       "      <th>Q6</th>\n",
       "      <th>Q7</th>\n",
       "      <th>Q8</th>\n",
       "      <th>...</th>\n",
       "      <th>Q70</th>\n",
       "      <th>Q71</th>\n",
       "      <th>Q72</th>\n",
       "      <th>Q73</th>\n",
       "      <th>Q74</th>\n",
       "      <th>Q75</th>\n",
       "      <th>Q76</th>\n",
       "      <th>Q77</th>\n",
       "      <th>Q78</th>\n",
       "      <th>DMINORITY</th>\n",
       "    </tr>\n",
       "  </thead>\n",
       "  <tbody>\n",
       "    <tr>\n",
       "      <th>count</th>\n",
       "      <td>70355.000000</td>\n",
       "      <td>70355.000000</td>\n",
       "      <td>70262.000000</td>\n",
       "      <td>70077.000000</td>\n",
       "      <td>69826.000000</td>\n",
       "      <td>70102.000000</td>\n",
       "      <td>69818.000000</td>\n",
       "      <td>56065.000000</td>\n",
       "      <td>56200.000000</td>\n",
       "      <td>56253.000000</td>\n",
       "      <td>...</td>\n",
       "      <td>68515.000000</td>\n",
       "      <td>68472.000000</td>\n",
       "      <td>18796.000000</td>\n",
       "      <td>46171.000000</td>\n",
       "      <td>46057.000000</td>\n",
       "      <td>46086.000000</td>\n",
       "      <td>45789.000000</td>\n",
       "      <td>46076.000000</td>\n",
       "      <td>46095.000000</td>\n",
       "      <td>62914.000000</td>\n",
       "    </tr>\n",
       "    <tr>\n",
       "      <th>mean</th>\n",
       "      <td>2011.263663</td>\n",
       "      <td>2.204271</td>\n",
       "      <td>4.041416</td>\n",
       "      <td>4.008562</td>\n",
       "      <td>3.993240</td>\n",
       "      <td>4.077202</td>\n",
       "      <td>4.241342</td>\n",
       "      <td>4.110818</td>\n",
       "      <td>4.694662</td>\n",
       "      <td>4.456100</td>\n",
       "      <td>...</td>\n",
       "      <td>3.789170</td>\n",
       "      <td>3.792178</td>\n",
       "      <td>1.301500</td>\n",
       "      <td>1.481579</td>\n",
       "      <td>1.726209</td>\n",
       "      <td>1.510567</td>\n",
       "      <td>1.850990</td>\n",
       "      <td>1.983288</td>\n",
       "      <td>2.024037</td>\n",
       "      <td>1.754427</td>\n",
       "    </tr>\n",
       "    <tr>\n",
       "      <th>std</th>\n",
       "      <td>3.127256</td>\n",
       "      <td>1.265532</td>\n",
       "      <td>0.975056</td>\n",
       "      <td>0.885722</td>\n",
       "      <td>1.044549</td>\n",
       "      <td>0.988083</td>\n",
       "      <td>0.861504</td>\n",
       "      <td>0.900838</td>\n",
       "      <td>0.540276</td>\n",
       "      <td>0.658213</td>\n",
       "      <td>...</td>\n",
       "      <td>1.062196</td>\n",
       "      <td>1.050775</td>\n",
       "      <td>0.794648</td>\n",
       "      <td>0.759591</td>\n",
       "      <td>0.548647</td>\n",
       "      <td>0.521187</td>\n",
       "      <td>0.377188</td>\n",
       "      <td>0.308432</td>\n",
       "      <td>0.289733</td>\n",
       "      <td>0.430430</td>\n",
       "    </tr>\n",
       "    <tr>\n",
       "      <th>min</th>\n",
       "      <td>2004.000000</td>\n",
       "      <td>0.672188</td>\n",
       "      <td>1.000000</td>\n",
       "      <td>1.000000</td>\n",
       "      <td>1.000000</td>\n",
       "      <td>1.000000</td>\n",
       "      <td>1.000000</td>\n",
       "      <td>1.000000</td>\n",
       "      <td>1.000000</td>\n",
       "      <td>1.000000</td>\n",
       "      <td>...</td>\n",
       "      <td>1.000000</td>\n",
       "      <td>1.000000</td>\n",
       "      <td>1.000000</td>\n",
       "      <td>1.000000</td>\n",
       "      <td>1.000000</td>\n",
       "      <td>1.000000</td>\n",
       "      <td>1.000000</td>\n",
       "      <td>1.000000</td>\n",
       "      <td>1.000000</td>\n",
       "      <td>1.000000</td>\n",
       "    </tr>\n",
       "    <tr>\n",
       "      <th>25%</th>\n",
       "      <td>2010.000000</td>\n",
       "      <td>1.617100</td>\n",
       "      <td>4.000000</td>\n",
       "      <td>4.000000</td>\n",
       "      <td>4.000000</td>\n",
       "      <td>4.000000</td>\n",
       "      <td>4.000000</td>\n",
       "      <td>4.000000</td>\n",
       "      <td>4.000000</td>\n",
       "      <td>4.000000</td>\n",
       "      <td>...</td>\n",
       "      <td>3.000000</td>\n",
       "      <td>3.000000</td>\n",
       "      <td>1.000000</td>\n",
       "      <td>1.000000</td>\n",
       "      <td>1.000000</td>\n",
       "      <td>1.000000</td>\n",
       "      <td>2.000000</td>\n",
       "      <td>2.000000</td>\n",
       "      <td>2.000000</td>\n",
       "      <td>2.000000</td>\n",
       "    </tr>\n",
       "    <tr>\n",
       "      <th>50%</th>\n",
       "      <td>2012.000000</td>\n",
       "      <td>1.852776</td>\n",
       "      <td>4.000000</td>\n",
       "      <td>4.000000</td>\n",
       "      <td>4.000000</td>\n",
       "      <td>4.000000</td>\n",
       "      <td>4.000000</td>\n",
       "      <td>4.000000</td>\n",
       "      <td>5.000000</td>\n",
       "      <td>5.000000</td>\n",
       "      <td>...</td>\n",
       "      <td>4.000000</td>\n",
       "      <td>4.000000</td>\n",
       "      <td>1.000000</td>\n",
       "      <td>1.000000</td>\n",
       "      <td>2.000000</td>\n",
       "      <td>1.000000</td>\n",
       "      <td>2.000000</td>\n",
       "      <td>2.000000</td>\n",
       "      <td>2.000000</td>\n",
       "      <td>2.000000</td>\n",
       "    </tr>\n",
       "    <tr>\n",
       "      <th>75%</th>\n",
       "      <td>2014.000000</td>\n",
       "      <td>2.171173</td>\n",
       "      <td>5.000000</td>\n",
       "      <td>5.000000</td>\n",
       "      <td>5.000000</td>\n",
       "      <td>5.000000</td>\n",
       "      <td>5.000000</td>\n",
       "      <td>5.000000</td>\n",
       "      <td>5.000000</td>\n",
       "      <td>5.000000</td>\n",
       "      <td>...</td>\n",
       "      <td>5.000000</td>\n",
       "      <td>5.000000</td>\n",
       "      <td>1.000000</td>\n",
       "      <td>2.000000</td>\n",
       "      <td>2.000000</td>\n",
       "      <td>2.000000</td>\n",
       "      <td>2.000000</td>\n",
       "      <td>2.000000</td>\n",
       "      <td>2.000000</td>\n",
       "      <td>2.000000</td>\n",
       "    </tr>\n",
       "    <tr>\n",
       "      <th>max</th>\n",
       "      <td>2015.000000</td>\n",
       "      <td>22.608714</td>\n",
       "      <td>5.000000</td>\n",
       "      <td>5.000000</td>\n",
       "      <td>5.000000</td>\n",
       "      <td>5.000000</td>\n",
       "      <td>5.000000</td>\n",
       "      <td>5.000000</td>\n",
       "      <td>5.000000</td>\n",
       "      <td>5.000000</td>\n",
       "      <td>...</td>\n",
       "      <td>5.000000</td>\n",
       "      <td>5.000000</td>\n",
       "      <td>4.000000</td>\n",
       "      <td>3.000000</td>\n",
       "      <td>3.000000</td>\n",
       "      <td>3.000000</td>\n",
       "      <td>3.000000</td>\n",
       "      <td>3.000000</td>\n",
       "      <td>3.000000</td>\n",
       "      <td>2.000000</td>\n",
       "    </tr>\n",
       "  </tbody>\n",
       "</table>\n",
       "<p>8 rows × 35 columns</p>\n",
       "</div>"
      ],
      "text/plain": [
       "               year        POSTWT            Q1            Q2            Q3  \\\n",
       "count  70355.000000  70355.000000  70262.000000  70077.000000  69826.000000   \n",
       "mean    2011.263663      2.204271      4.041416      4.008562      3.993240   \n",
       "std        3.127256      1.265532      0.975056      0.885722      1.044549   \n",
       "min     2004.000000      0.672188      1.000000      1.000000      1.000000   \n",
       "25%     2010.000000      1.617100      4.000000      4.000000      4.000000   \n",
       "50%     2012.000000      1.852776      4.000000      4.000000      4.000000   \n",
       "75%     2014.000000      2.171173      5.000000      5.000000      5.000000   \n",
       "max     2015.000000     22.608714      5.000000      5.000000      5.000000   \n",
       "\n",
       "                 Q4            Q5            Q6            Q7            Q8  \\\n",
       "count  70102.000000  69818.000000  56065.000000  56200.000000  56253.000000   \n",
       "mean       4.077202      4.241342      4.110818      4.694662      4.456100   \n",
       "std        0.988083      0.861504      0.900838      0.540276      0.658213   \n",
       "min        1.000000      1.000000      1.000000      1.000000      1.000000   \n",
       "25%        4.000000      4.000000      4.000000      4.000000      4.000000   \n",
       "50%        4.000000      4.000000      4.000000      5.000000      5.000000   \n",
       "75%        5.000000      5.000000      5.000000      5.000000      5.000000   \n",
       "max        5.000000      5.000000      5.000000      5.000000      5.000000   \n",
       "\n",
       "           ...                Q70           Q71           Q72           Q73  \\\n",
       "count      ...       68515.000000  68472.000000  18796.000000  46171.000000   \n",
       "mean       ...           3.789170      3.792178      1.301500      1.481579   \n",
       "std        ...           1.062196      1.050775      0.794648      0.759591   \n",
       "min        ...           1.000000      1.000000      1.000000      1.000000   \n",
       "25%        ...           3.000000      3.000000      1.000000      1.000000   \n",
       "50%        ...           4.000000      4.000000      1.000000      1.000000   \n",
       "75%        ...           5.000000      5.000000      1.000000      2.000000   \n",
       "max        ...           5.000000      5.000000      4.000000      3.000000   \n",
       "\n",
       "                Q74           Q75           Q76           Q77           Q78  \\\n",
       "count  46057.000000  46086.000000  45789.000000  46076.000000  46095.000000   \n",
       "mean       1.726209      1.510567      1.850990      1.983288      2.024037   \n",
       "std        0.548647      0.521187      0.377188      0.308432      0.289733   \n",
       "min        1.000000      1.000000      1.000000      1.000000      1.000000   \n",
       "25%        1.000000      1.000000      2.000000      2.000000      2.000000   \n",
       "50%        2.000000      1.000000      2.000000      2.000000      2.000000   \n",
       "75%        2.000000      2.000000      2.000000      2.000000      2.000000   \n",
       "max        3.000000      3.000000      3.000000      3.000000      3.000000   \n",
       "\n",
       "          DMINORITY  \n",
       "count  62914.000000  \n",
       "mean       1.754427  \n",
       "std        0.430430  \n",
       "min        1.000000  \n",
       "25%        2.000000  \n",
       "50%        2.000000  \n",
       "75%        2.000000  \n",
       "max        2.000000  \n",
       "\n",
       "[8 rows x 35 columns]"
      ]
     },
     "execution_count": 9,
     "metadata": {},
     "output_type": "execute_result"
    }
   ],
   "source": [
    "### Makes a dataframe that only has NASA data. \n",
    "### This was done by selecting for NN in the agency column.\n",
    "NASA = fevs.loc[fevs['agency'] == \"NN\"]\n",
    "## Using the same describe function as above, some basic stats are generated for the columns that the function can handle.\n",
    "## It can not calculate all columns.\n",
    "NASA.describe()"
   ]
  },
  {
   "cell_type": "code",
   "execution_count": 10,
   "metadata": {
    "collapsed": true
   },
   "outputs": [],
   "source": [
    "### exporting the NASA only data into a new CSV\n",
    "#this will export to the local directory where the Jupyter notebook is running\n",
    "NASA.to_csv('FEVs_NASA.csv')"
   ]
  },
  {
   "cell_type": "markdown",
   "metadata": {},
   "source": [
    "## The rest of the Jupyter notebook is data exploration:"
   ]
  },
  {
   "cell_type": "markdown",
   "metadata": {},
   "source": [
    "### Question 72 is:\n",
    "Have you been notified whether or not you are eligible to telework?\t\n",
    "   1.)Yes, I was notified that I was eligible to telework.\t\n",
    "   2.)Yes, I was notified that I was not eligible to telework.\t\n",
    "   3.)No, I was not notified of my telework eligibility.\t\n",
    "   4.)Not sure if I was notified of my telework eligibility.\n",
    "   \n",
    "if question was left blank, a X is put in the cell. "
   ]
  },
  {
   "cell_type": "code",
   "execution_count": 11,
   "metadata": {
    "collapsed": false
   },
   "outputs": [
    {
     "data": {
      "text/plain": [
       "NaN     51559\n",
       " 1.0    16038\n",
       " 4.0     1046\n",
       " 2.0      895\n",
       " 3.0      817\n",
       "Name: Q72, dtype: int64"
      ]
     },
     "execution_count": 11,
     "metadata": {},
     "output_type": "execute_result"
    }
   ],
   "source": [
    "### counts the unique answers for question 72\n",
    "NASA.Q72.value_counts(normalize=False, sort=True, ascending=False, bins=None, dropna=False)"
   ]
  },
  {
   "cell_type": "markdown",
   "metadata": {},
   "source": [
    "### Question 73 is:\n",
    "Please select the response below that BEST describes your current teleworking situation.\n",
    "   \n",
    "   1.)I telework\t\n",
    "   2.)I do not telework because I am unable\t\n",
    "   3.)I do not telework because I choose not to\n",
    "   \n",
    "if question was left blank, a X is put in the cell."
   ]
  },
  {
   "cell_type": "code",
   "execution_count": 23,
   "metadata": {
    "collapsed": false
   },
   "outputs": [
    {
     "data": {
      "text/plain": [
       " 1.0    31492\n",
       "NaN     24184\n",
       " 3.0     7556\n",
       " 2.0     7123\n",
       "Name: Q73, dtype: int64"
      ]
     },
     "execution_count": 23,
     "metadata": {},
     "output_type": "execute_result"
    }
   ],
   "source": [
    "### counts the unique answers for question 73\n",
    "NASA.Q73.value_counts(dropna=False)"
   ]
  },
  {
   "cell_type": "markdown",
   "metadata": {},
   "source": [
    "### A crosstabs plot lets you see how the answers to two questions correlate. \n",
    "###### \"All\" here refers to the total of all answers for that category. Ignore the \"ALL\" \"ALL\" box in bottom right if it is confusing."
   ]
  },
  {
   "cell_type": "code",
   "execution_count": 22,
   "metadata": {
    "collapsed": false
   },
   "outputs": [
    {
     "data": {
      "text/html": [
       "<div>\n",
       "<table border=\"1\" class=\"dataframe\">\n",
       "  <thead>\n",
       "    <tr style=\"text-align: right;\">\n",
       "      <th>Q73</th>\n",
       "      <th>1.0</th>\n",
       "      <th>2.0</th>\n",
       "      <th>3.0</th>\n",
       "      <th>All</th>\n",
       "    </tr>\n",
       "    <tr>\n",
       "      <th>Q72</th>\n",
       "      <th></th>\n",
       "      <th></th>\n",
       "      <th></th>\n",
       "      <th></th>\n",
       "    </tr>\n",
       "  </thead>\n",
       "  <tbody>\n",
       "    <tr>\n",
       "      <th>1.0</th>\n",
       "      <td>13445</td>\n",
       "      <td>664</td>\n",
       "      <td>1906</td>\n",
       "      <td>16038</td>\n",
       "    </tr>\n",
       "    <tr>\n",
       "      <th>2.0</th>\n",
       "      <td>99</td>\n",
       "      <td>690</td>\n",
       "      <td>102</td>\n",
       "      <td>895</td>\n",
       "    </tr>\n",
       "    <tr>\n",
       "      <th>3.0</th>\n",
       "      <td>211</td>\n",
       "      <td>409</td>\n",
       "      <td>181</td>\n",
       "      <td>817</td>\n",
       "    </tr>\n",
       "    <tr>\n",
       "      <th>4.0</th>\n",
       "      <td>343</td>\n",
       "      <td>298</td>\n",
       "      <td>381</td>\n",
       "      <td>1046</td>\n",
       "    </tr>\n",
       "    <tr>\n",
       "      <th>All</th>\n",
       "      <td>31492</td>\n",
       "      <td>7123</td>\n",
       "      <td>7556</td>\n",
       "      <td>70355</td>\n",
       "    </tr>\n",
       "  </tbody>\n",
       "</table>\n",
       "</div>"
      ],
      "text/plain": [
       "Q73    1.0   2.0   3.0    All\n",
       "Q72                          \n",
       "1.0  13445   664  1906  16038\n",
       "2.0     99   690   102    895\n",
       "3.0    211   409   181    817\n",
       "4.0    343   298   381   1046\n",
       "All  31492  7123  7556  70355"
      ]
     },
     "execution_count": 22,
     "metadata": {},
     "output_type": "execute_result"
    }
   ],
   "source": [
    "### Question 72 goes along the y-axis. Question 73 goes along the x-axis. \n",
    "### For example, the top left box is the number of respondents that answered #1 for both questions. \n",
    "### and the top right box is the number of respondents that answered 1 for question 72 but selected something for 73.\n",
    "pd.crosstab(NASA.Q72, NASA.Q73, margins=True)"
   ]
  },
  {
   "cell_type": "markdown",
   "metadata": {},
   "source": [
    "* interesting observation from the crosstab figure above is 99 people selected #2 for Q72, saying they have been informed they are ineligiable for telework, but also selected #1 for Q72, saying they teleworked?"
   ]
  },
  {
   "cell_type": "markdown",
   "metadata": {},
   "source": [
    "* most people fall into the \"I have been informed\" & \"I telework\" category, or answer 1 & 1. "
   ]
  },
  {
   "cell_type": "markdown",
   "metadata": {},
   "source": [
    "### Question 65 is:\n",
    "How satisfied are you with the recognition you receive for doing a good job?\n",
    "   1. Very Dissatisfied\n",
    "   2. Dissatisfied\t\n",
    "   3. Neither Satisfied nor Dissatisfied\t\n",
    "   4. Satisfied\t\n",
    "   5. Very Satisfied\n",
    "   \n",
    "if question was left blank, a X is put in the cell."
   ]
  },
  {
   "cell_type": "markdown",
   "metadata": {},
   "source": [
    "### Crosstable of questions 72 and 65 in percents"
   ]
  },
  {
   "cell_type": "code",
   "execution_count": 18,
   "metadata": {
    "collapsed": false
   },
   "outputs": [
    {
     "data": {
      "text/html": [
       "<div>\n",
       "<table border=\"1\" class=\"dataframe\">\n",
       "  <thead>\n",
       "    <tr style=\"text-align: right;\">\n",
       "      <th>Q65</th>\n",
       "      <th>1.0</th>\n",
       "      <th>2.0</th>\n",
       "      <th>3.0</th>\n",
       "      <th>4.0</th>\n",
       "      <th>5.0</th>\n",
       "      <th>All</th>\n",
       "    </tr>\n",
       "    <tr>\n",
       "      <th>Q72</th>\n",
       "      <th></th>\n",
       "      <th></th>\n",
       "      <th></th>\n",
       "      <th></th>\n",
       "      <th></th>\n",
       "      <th></th>\n",
       "    </tr>\n",
       "  </thead>\n",
       "  <tbody>\n",
       "    <tr>\n",
       "      <th>1.0</th>\n",
       "      <td>715</td>\n",
       "      <td>1782</td>\n",
       "      <td>2938</td>\n",
       "      <td>6294</td>\n",
       "      <td>4198</td>\n",
       "      <td>16038</td>\n",
       "    </tr>\n",
       "    <tr>\n",
       "      <th>2.0</th>\n",
       "      <td>74</td>\n",
       "      <td>100</td>\n",
       "      <td>202</td>\n",
       "      <td>343</td>\n",
       "      <td>171</td>\n",
       "      <td>895</td>\n",
       "    </tr>\n",
       "    <tr>\n",
       "      <th>3.0</th>\n",
       "      <td>107</td>\n",
       "      <td>158</td>\n",
       "      <td>203</td>\n",
       "      <td>252</td>\n",
       "      <td>97</td>\n",
       "      <td>817</td>\n",
       "    </tr>\n",
       "    <tr>\n",
       "      <th>4.0</th>\n",
       "      <td>73</td>\n",
       "      <td>130</td>\n",
       "      <td>243</td>\n",
       "      <td>421</td>\n",
       "      <td>168</td>\n",
       "      <td>1046</td>\n",
       "    </tr>\n",
       "    <tr>\n",
       "      <th>All</th>\n",
       "      <td>3595</td>\n",
       "      <td>8329</td>\n",
       "      <td>13352</td>\n",
       "      <td>27312</td>\n",
       "      <td>15825</td>\n",
       "      <td>70355</td>\n",
       "    </tr>\n",
       "  </tbody>\n",
       "</table>\n",
       "</div>"
      ],
      "text/plain": [
       "Q65   1.0   2.0    3.0    4.0    5.0    All\n",
       "Q72                                        \n",
       "1.0   715  1782   2938   6294   4198  16038\n",
       "2.0    74   100    202    343    171    895\n",
       "3.0   107   158    203    252     97    817\n",
       "4.0    73   130    243    421    168   1046\n",
       "All  3595  8329  13352  27312  15825  70355"
      ]
     },
     "execution_count": 18,
     "metadata": {},
     "output_type": "execute_result"
    }
   ],
   "source": [
    "### Question 72 goes along the y-axis. Question 65 goes along the x-axis. \n",
    "### For example, the top left box is the number of respondents that answered #1 for both questions. \n",
    "### and the top right box is the number of respondents that answered 1 for question 72 but selected something for 65.\n",
    "pd.crosstab(NASA.Q72, NASA.Q65, margins=True)"
   ]
  },
  {
   "cell_type": "markdown",
   "metadata": {},
   "source": [
    "### Crosstable of questions 73 and 65 in counts"
   ]
  },
  {
   "cell_type": "code",
   "execution_count": 19,
   "metadata": {
    "collapsed": false
   },
   "outputs": [
    {
     "data": {
      "text/html": [
       "<div>\n",
       "<table border=\"1\" class=\"dataframe\">\n",
       "  <thead>\n",
       "    <tr style=\"text-align: right;\">\n",
       "      <th>Q65</th>\n",
       "      <th>1.0</th>\n",
       "      <th>2.0</th>\n",
       "      <th>3.0</th>\n",
       "      <th>4.0</th>\n",
       "      <th>5.0</th>\n",
       "      <th>All</th>\n",
       "    </tr>\n",
       "    <tr>\n",
       "      <th>Q73</th>\n",
       "      <th></th>\n",
       "      <th></th>\n",
       "      <th></th>\n",
       "      <th></th>\n",
       "      <th></th>\n",
       "      <th></th>\n",
       "    </tr>\n",
       "  </thead>\n",
       "  <tbody>\n",
       "    <tr>\n",
       "      <th>1.0</th>\n",
       "      <td>1420</td>\n",
       "      <td>3729</td>\n",
       "      <td>6026</td>\n",
       "      <td>12391</td>\n",
       "      <td>7738</td>\n",
       "      <td>31492</td>\n",
       "    </tr>\n",
       "    <tr>\n",
       "      <th>2.0</th>\n",
       "      <td>685</td>\n",
       "      <td>1125</td>\n",
       "      <td>1636</td>\n",
       "      <td>2556</td>\n",
       "      <td>1085</td>\n",
       "      <td>7123</td>\n",
       "    </tr>\n",
       "    <tr>\n",
       "      <th>3.0</th>\n",
       "      <td>249</td>\n",
       "      <td>629</td>\n",
       "      <td>1351</td>\n",
       "      <td>3226</td>\n",
       "      <td>2046</td>\n",
       "      <td>7556</td>\n",
       "    </tr>\n",
       "    <tr>\n",
       "      <th>All</th>\n",
       "      <td>3595</td>\n",
       "      <td>8329</td>\n",
       "      <td>13352</td>\n",
       "      <td>27312</td>\n",
       "      <td>15825</td>\n",
       "      <td>70355</td>\n",
       "    </tr>\n",
       "  </tbody>\n",
       "</table>\n",
       "</div>"
      ],
      "text/plain": [
       "Q65   1.0   2.0    3.0    4.0    5.0    All\n",
       "Q73                                        \n",
       "1.0  1420  3729   6026  12391   7738  31492\n",
       "2.0   685  1125   1636   2556   1085   7123\n",
       "3.0   249   629   1351   3226   2046   7556\n",
       "All  3595  8329  13352  27312  15825  70355"
      ]
     },
     "execution_count": 19,
     "metadata": {},
     "output_type": "execute_result"
    }
   ],
   "source": [
    "### Question 73 goes along the y-axis. Question 65 goes along the x-axis. \n",
    "### For example, the top left box is the number of respondents that answered #1 for both questions. \n",
    "### and the top right box is the number of respondents that answered 1 for question 73 but selected something for 65.\n",
    "pd.crosstab(NASA.Q73, NASA.Q65, margins=True)"
   ]
  },
  {
   "cell_type": "markdown",
   "metadata": {},
   "source": [
    "### Crosstable of questions 73 and 65 in percents"
   ]
  },
  {
   "cell_type": "code",
   "execution_count": 20,
   "metadata": {
    "collapsed": false
   },
   "outputs": [
    {
     "data": {
      "text/html": [
       "<div>\n",
       "<table border=\"1\" class=\"dataframe\">\n",
       "  <thead>\n",
       "    <tr style=\"text-align: right;\">\n",
       "      <th>Q65</th>\n",
       "      <th>1.0</th>\n",
       "      <th>2.0</th>\n",
       "      <th>3.0</th>\n",
       "      <th>4.0</th>\n",
       "      <th>5.0</th>\n",
       "      <th>All</th>\n",
       "    </tr>\n",
       "    <tr>\n",
       "      <th>Q73</th>\n",
       "      <th></th>\n",
       "      <th></th>\n",
       "      <th></th>\n",
       "      <th></th>\n",
       "      <th></th>\n",
       "      <th></th>\n",
       "    </tr>\n",
       "  </thead>\n",
       "  <tbody>\n",
       "    <tr>\n",
       "      <th>1.0</th>\n",
       "      <td>0.022613</td>\n",
       "      <td>0.059383</td>\n",
       "      <td>0.095962</td>\n",
       "      <td>0.197321</td>\n",
       "      <td>0.123224</td>\n",
       "      <td>0.501497</td>\n",
       "    </tr>\n",
       "    <tr>\n",
       "      <th>2.0</th>\n",
       "      <td>0.048205</td>\n",
       "      <td>0.079170</td>\n",
       "      <td>0.115130</td>\n",
       "      <td>0.179873</td>\n",
       "      <td>0.076355</td>\n",
       "      <td>0.501267</td>\n",
       "    </tr>\n",
       "    <tr>\n",
       "      <th>3.0</th>\n",
       "      <td>0.016537</td>\n",
       "      <td>0.041775</td>\n",
       "      <td>0.089726</td>\n",
       "      <td>0.214253</td>\n",
       "      <td>0.135884</td>\n",
       "      <td>0.501826</td>\n",
       "    </tr>\n",
       "    <tr>\n",
       "      <th>All</th>\n",
       "      <td>0.025907</td>\n",
       "      <td>0.060021</td>\n",
       "      <td>0.096218</td>\n",
       "      <td>0.196818</td>\n",
       "      <td>0.114039</td>\n",
       "      <td>0.506997</td>\n",
       "    </tr>\n",
       "  </tbody>\n",
       "</table>\n",
       "</div>"
      ],
      "text/plain": [
       "Q65       1.0       2.0       3.0       4.0       5.0       All\n",
       "Q73                                                            \n",
       "1.0  0.022613  0.059383  0.095962  0.197321  0.123224  0.501497\n",
       "2.0  0.048205  0.079170  0.115130  0.179873  0.076355  0.501267\n",
       "3.0  0.016537  0.041775  0.089726  0.214253  0.135884  0.501826\n",
       "All  0.025907  0.060021  0.096218  0.196818  0.114039  0.506997"
      ]
     },
     "execution_count": 20,
     "metadata": {},
     "output_type": "execute_result"
    }
   ],
   "source": [
    "pd.crosstab(NASA.Q73, NASA.Q65, margins=True).apply(lambda r: r/r.sum(), axis=1)"
   ]
  },
  {
   "cell_type": "markdown",
   "metadata": {},
   "source": [
    "#### In regards to \"Employees given the option to telework will be more positively associated with satisfaction with recognition received for doing a good job than employees not given the option to telework.\"\n",
    "\n",
    "It appears that although employees who telework score higher on the 'satisfaction of recognition received' question (65) than those not given the option to telework, the most satisfied, as judged by percent, are those that are given the option to telework but chose not to take it. \n"
   ]
  },
  {
   "cell_type": "markdown",
   "metadata": {},
   "source": [
    "### Crosstable of questions 72 and 65 in percents"
   ]
  },
  {
   "cell_type": "code",
   "execution_count": 21,
   "metadata": {
    "collapsed": false
   },
   "outputs": [
    {
     "data": {
      "text/html": [
       "<div>\n",
       "<table border=\"1\" class=\"dataframe\">\n",
       "  <thead>\n",
       "    <tr style=\"text-align: right;\">\n",
       "      <th>Q65</th>\n",
       "      <th>1.0</th>\n",
       "      <th>2.0</th>\n",
       "      <th>3.0</th>\n",
       "      <th>4.0</th>\n",
       "      <th>5.0</th>\n",
       "      <th>All</th>\n",
       "    </tr>\n",
       "    <tr>\n",
       "      <th>Q72</th>\n",
       "      <th></th>\n",
       "      <th></th>\n",
       "      <th></th>\n",
       "      <th></th>\n",
       "      <th></th>\n",
       "      <th></th>\n",
       "    </tr>\n",
       "  </thead>\n",
       "  <tbody>\n",
       "    <tr>\n",
       "      <th>1.0</th>\n",
       "      <td>0.022368</td>\n",
       "      <td>0.055748</td>\n",
       "      <td>0.091913</td>\n",
       "      <td>0.196903</td>\n",
       "      <td>0.131331</td>\n",
       "      <td>0.501736</td>\n",
       "    </tr>\n",
       "    <tr>\n",
       "      <th>2.0</th>\n",
       "      <td>0.041457</td>\n",
       "      <td>0.056022</td>\n",
       "      <td>0.113165</td>\n",
       "      <td>0.192157</td>\n",
       "      <td>0.095798</td>\n",
       "      <td>0.501401</td>\n",
       "    </tr>\n",
       "    <tr>\n",
       "      <th>3.0</th>\n",
       "      <td>0.065483</td>\n",
       "      <td>0.096695</td>\n",
       "      <td>0.124235</td>\n",
       "      <td>0.154223</td>\n",
       "      <td>0.059364</td>\n",
       "      <td>0.500000</td>\n",
       "    </tr>\n",
       "    <tr>\n",
       "      <th>4.0</th>\n",
       "      <td>0.035079</td>\n",
       "      <td>0.062470</td>\n",
       "      <td>0.116771</td>\n",
       "      <td>0.202307</td>\n",
       "      <td>0.080730</td>\n",
       "      <td>0.502643</td>\n",
       "    </tr>\n",
       "    <tr>\n",
       "      <th>All</th>\n",
       "      <td>0.025907</td>\n",
       "      <td>0.060021</td>\n",
       "      <td>0.096218</td>\n",
       "      <td>0.196818</td>\n",
       "      <td>0.114039</td>\n",
       "      <td>0.506997</td>\n",
       "    </tr>\n",
       "  </tbody>\n",
       "</table>\n",
       "</div>"
      ],
      "text/plain": [
       "Q65       1.0       2.0       3.0       4.0       5.0       All\n",
       "Q72                                                            \n",
       "1.0  0.022368  0.055748  0.091913  0.196903  0.131331  0.501736\n",
       "2.0  0.041457  0.056022  0.113165  0.192157  0.095798  0.501401\n",
       "3.0  0.065483  0.096695  0.124235  0.154223  0.059364  0.500000\n",
       "4.0  0.035079  0.062470  0.116771  0.202307  0.080730  0.502643\n",
       "All  0.025907  0.060021  0.096218  0.196818  0.114039  0.506997"
      ]
     },
     "execution_count": 21,
     "metadata": {},
     "output_type": "execute_result"
    }
   ],
   "source": [
    "pd.crosstab(NASA.Q72, NASA.Q65, margins=True).apply(lambda r: r/r.sum(), axis=1)"
   ]
  },
  {
   "cell_type": "markdown",
   "metadata": {},
   "source": [
    "In terms of question 72 (whether you were informed about your telework options and what they were) and quesiton 65 (recognition), the only result that stands out is that people who knew  they were not informed of their elegibility for telework scored lowest on the recognition question, (65). "
   ]
  },
  {
   "cell_type": "markdown",
   "metadata": {},
   "source": [
    "## Visualizations of Crosstabs using parallel sets"
   ]
  },
  {
   "cell_type": "markdown",
   "metadata": {},
   "source": [
    "In the two figures below, question 65 (How satisfied are you with the recognition you receive for doing a good job?) is plotted on the X axis\n",
    "\n",
    "The percent that responded to each answer in question 65 is the y-axis.\n",
    "\n",
    "Each line represents a response group for question 72 or 73, depending on the plot."
   ]
  },
  {
   "cell_type": "code",
   "execution_count": 47,
   "metadata": {
    "collapsed": false
   },
   "outputs": [
    {
     "data": {
      "text/plain": [
       "<matplotlib.axes._subplots.AxesSubplot at 0x1210d5828>"
      ]
     },
     "execution_count": 47,
     "metadata": {},
     "output_type": "execute_result"
    },
    {
     "data": {
      "image/png": "[encoded data removed]",
      "text/plain": [
       "<matplotlib.figure.Figure at 0x1210d59e8>"
      ]
     },
     "metadata": {},
     "output_type": "display_data"
    }
   ],
   "source": [
    "# Parallel comes from the pandas modules \n",
    "# coordinates plots each feature on a separate column & then draws lines\n",
    "# connecting the features for each data sample\n",
    "Xtab_Per_7265 = pd.crosstab(NASA.Q72, NASA.Q65, margins=True).apply(lambda r: r/r.sum(), axis=1)\n",
    "Xtab_Per_7265['answers']=[\"1.0\",\"2.0\",\"3.0\",\"4.0\",\"All\"]\n",
    "###parallel_coordinates(iris.drop(\"Id\", axis=1), \"Species\")\n",
    "parallel_coordinates(Xtab_Per_7265.drop(\"All\",axis=1),\"answers\")\n"
   ]
  },
  {
   "cell_type": "markdown",
   "metadata": {},
   "source": [
    "Each line = a response group for question 72\n",
    "\n",
    "Yellow line = Answer 3.)No, I was not notified of my telework eligibility."
   ]
  },
  {
   "cell_type": "code",
   "execution_count": 50,
   "metadata": {
    "collapsed": false
   },
   "outputs": [
    {
     "data": {
      "text/plain": [
       "<matplotlib.axes._subplots.AxesSubplot at 0x11d1520b8>"
      ]
     },
     "execution_count": 50,
     "metadata": {},
     "output_type": "execute_result"
    },
    {
     "data": {
      "image/png": "[encoded data removed]",
      "text/plain": [
       "<matplotlib.figure.Figure at 0x1175b7128>"
      ]
     },
     "metadata": {},
     "output_type": "display_data"
    }
   ],
   "source": [
    "Xtab_Per_7365 = pd.crosstab(NASA.Q73, NASA.Q65, margins=True).apply(lambda r: r/r.sum(), axis=1)\n",
    "Xtab_Per_7365['answers']=[\"1.0\",\"2.0\",\"3.0\",\"All\"]\n",
    "###parallel_coordinates(iris.drop(\"Id\", axis=1), \"Species\")\n",
    "parallel_coordinates(Xtab_Per_7365.drop(\"All\",axis=1),\"answers\")\n",
    "\n"
   ]
  },
  {
   "cell_type": "markdown",
   "metadata": {},
   "source": [
    "Each line = a response group for question 73\n",
    "\n",
    "Yellow line = Answer 3.)I do not telework because I choose not to"
   ]
  },
  {
   "cell_type": "markdown",
   "metadata": {},
   "source": [
    "## Review of question definitions"
   ]
  },
  {
   "cell_type": "markdown",
   "metadata": {},
   "source": [
    "### Question 72 is:\n",
    "Have you been notified whether or not you are eligible to telework?\t\n",
    "   1.)Yes, I was notified that I was eligible to telework.\t\n",
    "   2.)Yes, I was notified that I was not eligible to telework.\t\n",
    "   3.)No, I was not notified of my telework eligibility.\t\n",
    "   4.)Not sure if I was notified of my telework eligibility.\n",
    "   \n",
    "if question was left blank, a X is put in the cell. "
   ]
  },
  {
   "cell_type": "markdown",
   "metadata": {},
   "source": [
    "### Question 65 is:\n",
    "How satisfied are you with the recognition you receive for doing a good job?\n",
    "   1. Very Dissatisfied\n",
    "   2. Dissatisfied\t\n",
    "   3. Neither Satisfied nor Dissatisfied\t\n",
    "   4. Satisfied\t\n",
    "   5. Very Satisfied\n",
    "   \n",
    "if question was left blank, a X is put in the cell."
   ]
  },
  {
   "cell_type": "markdown",
   "metadata": {},
   "source": [
    "### Question 73 is:\n",
    "Please select the response below that BEST describes your current teleworking situation.\n",
    "   \n",
    "   1.)I telework\t\n",
    "   2.)I do not telework because I am unable\t\n",
    "   3.)I do not telework because I choose not to\n",
    "   \n",
    "if question was left blank, a X is put in the cell."
   ]
  },
  {
   "cell_type": "code",
   "execution_count": null,
   "metadata": {
    "collapsed": true
   },
   "outputs": [],
   "source": []
  },
  {
   "cell_type": "markdown",
   "metadata": {},
   "source": [
    "## Next Figure = Heatmap, using the seaborn library\n",
    "##### Darker colors corrlate more higher. \n",
    "##### There is a 1:1 line that goes down the center that effectively compares the responses of one question to itself. \n",
    "#### Note: this isn't something to use to make conclusions but rather a quick test to see if it might be useful for  directing further investigation. \n",
    "\n",
    "### For telework purposes, probably not useful."
   ]
  },
  {
   "cell_type": "code",
   "execution_count": 28,
   "metadata": {
    "collapsed": false
   },
   "outputs": [
    {
     "data": {
      "text/plain": [
       "<matplotlib.axes._subplots.AxesSubplot at 0x118389cf8>"
      ]
     },
     "execution_count": 28,
     "metadata": {},
     "output_type": "execute_result"
    },
    {
     "data": {
      "image/png": "[encoded data removed]",
      "text/plain": [
       "<matplotlib.figure.Figure at 0x11a7a9c88>"
      ]
     },
     "metadata": {},
     "output_type": "display_data"
    }
   ],
   "source": [
    "# seaborn library = sns\n",
    "\n",
    "sns.set(context=\"paper\", font=\"monospace\")\n",
    "\n",
    "# Load the datset of correlations between cortical brain networks\n",
    "corrmat = NASA.corr()\n",
    "\n",
    "# Set up the matplotlib figure\n",
    "f, ax = plt.subplots(figsize=(12, 9))\n",
    "\n",
    "# Draw the heatmap using seaborn\n",
    "sns.heatmap(corrmat, vmax=.8, square=True)"
   ]
  },
  {
   "cell_type": "markdown",
   "metadata": {},
   "source": [
    "The shift from blue to red around the question 71/72 boundary is most likely related to a shift in the number of possible answers. "
   ]
  },
  {
   "cell_type": "code",
   "execution_count": null,
   "metadata": {
    "collapsed": true
   },
   "outputs": [],
   "source": []
  }
 ],
 "metadata": {
  "kernelspec": {
   "display_name": "Python 3",
   "language": "python",
   "name": "python3"
  },
  "language_info": {
   "codemirror_mode": {
    "name": "ipython",
    "version": 3
   },
   "file_extension": ".py",
   "mimetype": "text/x-python",
   "name": "python",
   "nbconvert_exporter": "python",
   "pygments_lexer": "ipython3",
   "version": "3.5.1"
  }
 },
 "nbformat": 4,
 "nbformat_minor": 0
}
